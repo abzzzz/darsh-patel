{
  "nbformat": 4,
  "nbformat_minor": 0,
  "metadata": {
    "colab": {
      "name": "kaggel.ipynb",
      "provenance": [],
      "mount_file_id": "1FumXid5bvI4PsQVC6aCYjnseIOikPrxb",
      "authorship_tag": "ABX9TyOIEWYqbOQviYOK0UW5WNIq",
      "include_colab_link": true
    },
    "kernelspec": {
      "name": "python3",
      "display_name": "Python 3"
    },
    "accelerator": "GPU"
  },
  "cells": [
    {
      "cell_type": "markdown",
      "metadata": {
        "id": "view-in-github",
        "colab_type": "text"
      },
      "source": [
        "<a href=\"https://colab.research.google.com/github/darsh004/darsh-patel/blob/master/kaggel.ipynb\" target=\"_parent\"><img src=\"https://colab.research.google.com/assets/colab-badge.svg\" alt=\"Open In Colab\"/></a>"
      ]
    },
    {
      "cell_type": "code",
      "metadata": {
        "id": "G0pvhcYphu2d",
        "colab_type": "code",
        "outputId": "d96ec723-bdbb-45b0-db02-7aba19b21a5d",
        "colab": {
          "base_uri": "https://localhost:8080/",
          "height": 228
        }
      },
      "source": [
        "!pip install kaggle"
      ],
      "execution_count": 6,
      "outputs": [
        {
          "output_type": "stream",
          "text": [
            "Requirement already satisfied: kaggle in /usr/local/lib/python3.6/dist-packages (1.5.6)\n",
            "Requirement already satisfied: urllib3<1.25,>=1.21.1 in /usr/local/lib/python3.6/dist-packages (from kaggle) (1.24.3)\n",
            "Requirement already satisfied: python-dateutil in /usr/local/lib/python3.6/dist-packages (from kaggle) (2.8.1)\n",
            "Requirement already satisfied: six>=1.10 in /usr/local/lib/python3.6/dist-packages (from kaggle) (1.12.0)\n",
            "Requirement already satisfied: requests in /usr/local/lib/python3.6/dist-packages (from kaggle) (2.23.0)\n",
            "Requirement already satisfied: python-slugify in /usr/local/lib/python3.6/dist-packages (from kaggle) (4.0.0)\n",
            "Requirement already satisfied: tqdm in /usr/local/lib/python3.6/dist-packages (from kaggle) (4.41.1)\n",
            "Requirement already satisfied: certifi in /usr/local/lib/python3.6/dist-packages (from kaggle) (2020.4.5.1)\n",
            "Requirement already satisfied: chardet<4,>=3.0.2 in /usr/local/lib/python3.6/dist-packages (from requests->kaggle) (3.0.4)\n",
            "Requirement already satisfied: idna<3,>=2.5 in /usr/local/lib/python3.6/dist-packages (from requests->kaggle) (2.9)\n",
            "Requirement already satisfied: text-unidecode>=1.3 in /usr/local/lib/python3.6/dist-packages (from python-slugify->kaggle) (1.3)\n"
          ],
          "name": "stdout"
        }
      ]
    },
    {
      "cell_type": "code",
      "metadata": {
        "id": "-RAzYcldkrpx",
        "colab_type": "code",
        "outputId": "cc2b182c-0662-476e-e3cb-f78964d21915",
        "colab": {
          "resources": {
            "http://localhost:8080/nbextensions/google.colab/files.js": {
              "data": "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",
              "ok": true,
              "headers": [
                [
                  "content-type",
                  "application/javascript"
                ]
              ],
              "status": 200,
              "status_text": "OK"
            }
          },
          "base_uri": "https://localhost:8080/",
          "height": 100
        }
      },
      "source": [
        "from google.colab import files\n",
        "files.upload()"
      ],
      "execution_count": 1,
      "outputs": [
        {
          "output_type": "display_data",
          "data": {
            "text/html": [
              "\n",
              "     <input type=\"file\" id=\"files-c7b17946-8373-4ff9-9cc9-5c51926159eb\" name=\"files[]\" multiple disabled />\n",
              "     <output id=\"result-c7b17946-8373-4ff9-9cc9-5c51926159eb\">\n",
              "      Upload widget is only available when the cell has been executed in the\n",
              "      current browser session. Please rerun this cell to enable.\n",
              "      </output>\n",
              "      <script src=\"/nbextensions/google.colab/files.js\"></script> "
            ],
            "text/plain": [
              "<IPython.core.display.HTML object>"
            ]
          },
          "metadata": {
            "tags": []
          }
        },
        {
          "output_type": "stream",
          "text": [
            "Saving kaggle.json to kaggle.json\n"
          ],
          "name": "stdout"
        },
        {
          "output_type": "execute_result",
          "data": {
            "text/plain": [
              "{'kaggle.json': b'{\"username\":\"darshanpatel004\",\"key\":\"c239fd0c2c9941b3db205a6c1f4e4ddb\"}'}"
            ]
          },
          "metadata": {
            "tags": []
          },
          "execution_count": 1
        }
      ]
    },
    {
      "cell_type": "code",
      "metadata": {
        "id": "BECPDllLlC3Q",
        "colab_type": "code",
        "colab": {}
      },
      "source": [
        "!mkdir -p ~/.kaggle\n",
        "!cp kaggle.json ~/.kaggle/\n",
        "\n",
        "!chmod 600 ~/.kaggle/kaggle.json"
      ],
      "execution_count": 0,
      "outputs": []
    },
    {
      "cell_type": "code",
      "metadata": {
        "id": "FN6kAViYlo9w",
        "colab_type": "code",
        "outputId": "1049f8a9-c24f-4fa2-84a6-6873534d8948",
        "colab": {
          "base_uri": "https://localhost:8080/",
          "height": 69
        }
      },
      "source": [
        "!kaggle datasets download -d simeondee/brain-tumor-images-dataset"
      ],
      "execution_count": 3,
      "outputs": [
        {
          "output_type": "stream",
          "text": [
            "Downloading brain-tumor-images-dataset.zip to /content\n",
            " 84% 41.0M/48.9M [00:01<00:00, 20.5MB/s]\n",
            "100% 48.9M/48.9M [00:01<00:00, 36.2MB/s]\n"
          ],
          "name": "stdout"
        }
      ]
    },
    {
      "cell_type": "code",
      "metadata": {
        "id": "Cg5MiHnUjSm7",
        "colab_type": "code",
        "colab": {
          "base_uri": "https://localhost:8080/",
          "height": 34
        },
        "outputId": "a776de13-c6ad-4235-f7a4-17e2e6b43be7"
      },
      "source": [
        "from zipfile import ZipFile\n",
        "file_name = \"brain-tumor-images-dataset.zip\"\n",
        "with ZipFile(file_name,'r') as zip:\n",
        "  zip.extractall()\n",
        "  print('Done')"
      ],
      "execution_count": 4,
      "outputs": [
        {
          "output_type": "stream",
          "text": [
            "Done\n"
          ],
          "name": "stdout"
        }
      ]
    },
    {
      "cell_type": "code",
      "metadata": {
        "id": "i7pvTng9kKda",
        "colab_type": "code",
        "colab": {}
      },
      "source": [
        "import numpy as np \n",
        "import pandas as pd\n",
        "import matplotlib.pyplot as plt\n",
        "import os\n",
        "import PIL\n",
        "import skimage as sk\n",
        "from skimage import transform\n",
        "import random\n"
      ],
      "execution_count": 0,
      "outputs": []
    },
    {
      "cell_type": "code",
      "metadata": {
        "id": "PqSqUWoHkL7k",
        "colab_type": "code",
        "colab": {
          "base_uri": "https://localhost:8080/",
          "height": 69
        },
        "outputId": "6d204af7-cc0a-42a4-83da-46f9299bb37a"
      },
      "source": [
        "from PIL import Image\n",
        "def prepare_dataset(path):\n",
        "    #declare arrays\n",
        "    x=[]\n",
        "    y=[]\n",
        "    \n",
        "    #start to push images and labels to declared arrays\n",
        "    data_folders = os.listdir(path)\n",
        "    for folder in data_folders:\n",
        "        full_path = os.path.join(path,folder)\n",
        "        for img in os.listdir(full_path):\n",
        "            image = Image.open(os.path.join(full_path,img)).convert('L') #convert readed image to grayscale\n",
        "            image = image.resize((224,224),Image.ANTIALIAS)\n",
        "            x.append(np.asarray(image))\n",
        "            if('non' in full_path): #if non hemmorhage, result is 0\n",
        "                y.append(0)\n",
        "            else:\n",
        "                y.append(1)\n",
        "            \n",
        "    x = np.asarray(x)\n",
        "    y = np.asarray(y)\n",
        "    \n",
        "    \n",
        "    return (x,y)\n",
        "                    \n",
        "\n",
        "(x_train,y_train) = prepare_dataset('/content/Brain Tumor Images Dataset/training_set')\n",
        "(x_test,y_test) = prepare_dataset('/content/Brain Tumor Images Dataset/test_set')\n",
        "(x_validation,y_validation) = prepare_dataset('/content/Brain Tumor Images Dataset/validation_set')\n",
        "\n",
        "#Shapes\n",
        "print(\"Shape of x_train {}\\nShape of x_test{}\\nShape of x_validation{}\".format(x_train.shape,x_test.shape,x_validation.shape))\n"
      ],
      "execution_count": 10,
      "outputs": [
        {
          "output_type": "stream",
          "text": [
            "Shape of x_train (140, 224, 224)\n",
            "Shape of x_test(20, 224, 224)\n",
            "Shape of x_validation(40, 224, 224)\n"
          ],
          "name": "stdout"
        }
      ]
    },
    {
      "cell_type": "code",
      "metadata": {
        "id": "ftf1xfI-k1z1",
        "colab_type": "code",
        "colab": {
          "base_uri": "https://localhost:8080/",
          "height": 301
        },
        "outputId": "6e2a5b6b-1207-4aa2-8be9-79b30080c4db"
      },
      "source": [
        "#random examples from x_train\n",
        "def random_example(x,y,rows,cols):\n",
        "    row = 0\n",
        "    col = 0\n",
        "    f, axarr = plt.subplots(rows,cols)\n",
        "\n",
        "    for i in range(3):\n",
        "        for k in range(2):  \n",
        "            rnd = random.randint(0,len(x))\n",
        "            axarr[row,col].imshow(x[rnd],cmap='gray')\n",
        "            if(y is not None):\n",
        "                axarr[row,col].set_title(\"Has Tumor\" if y[rnd] == 1 else \"No Tumor\")\n",
        "            col += 1\n",
        "        col = 0\n",
        "        row += 1\n",
        "        \n",
        "    #f.subplots_adjust(wspace=5)\n",
        "    f.tight_layout(pad=0.9,h_pad=2.0)\n",
        "\n",
        "    plt.show()\n",
        "    \n",
        "random_example(x_train,None,3,2)\n"
      ],
      "execution_count": 11,
      "outputs": [
        {
          "output_type": "display_data",
          "data": {
            "image/png": "[encoded data removed]",
            "text/plain": [
              "<Figure size 432x288 with 6 Axes>"
            ]
          },
          "metadata": {
            "tags": [],
            "needs_background": "light"
          }
        }
      ]
    },
    {
      "cell_type": "code",
      "metadata": {
        "id": "FX2jub9smoR5",
        "colab_type": "code",
        "colab": {}
      },
      "source": [
        "#Data Augmentation\n",
        "class Augmentation:\n",
        "    def __init__(self):\n",
        "        pass\n",
        "        \n",
        "    def random_rotation(self,data,label):\n",
        "        # pick a random degree of rotation between 25% on the left and 25% on the right\n",
        "        augmented_images = []\n",
        "        augmented_label = []\n",
        "        random_degree = random.uniform(-25, 25)\n",
        "        counter = 0\n",
        "        for img in data:\n",
        "            img = sk.transform.rotate(img, random_degree)\n",
        "            augmented_images.append(img)\n",
        "            augmented_label.append(label[counter])\n",
        "            counter += 1\n",
        "        return (augmented_images,augmented_label)\n",
        "    \n",
        "    # add random noise to the image\n",
        "    def random_noise(self,data,label):\n",
        "        augmented_images = []\n",
        "        augmented_label = []\n",
        "        counter = 0\n",
        "        for img in data:\n",
        "            img = sk.util.random_noise(img)\n",
        "            augmented_images.append(img)\n",
        "            augmented_label.append(label[counter])\n",
        "            counter += 1\n",
        "        \n",
        "        return (augmented_images,augmented_label)\n",
        "\n",
        "    def horizontal_flip(self,data,label):\n",
        "        # horizontal flip doesn't need skimage, it's easy as flipping the image array of pixels !\n",
        "        counter = 0\n",
        "        augmented_images = []\n",
        "        augmented_label = []\n",
        "        for img in data:\n",
        "            img = img[:, ::-1]\n",
        "            augmented_images.append(img)\n",
        "            augmented_label.append(label[counter])\n",
        "            counter += 1\n",
        "        return (augmented_images,augmented_label)\n",
        "    \n",
        "    def vertical_flip(self,data,label):\n",
        "        counter = 0\n",
        "        augmented_images = []\n",
        "        augmented_label = []\n",
        "        for img in data:\n",
        "            img = np.flip(img)\n",
        "            augmented_images.append(img)\n",
        "            augmented_label.append(label[counter])\n",
        "            counter += 1\n",
        "        return (augmented_images,augmented_label)\n",
        "    \n",
        "   \n",
        "\n",
        "AUG = Augmentation()\n",
        "\n",
        "(x_noise,y_noise) = AUG.random_noise(x_train,y_train)\n",
        "(x_h_flipped,y_h_flipped) = AUG.horizontal_flip(x_train,y_train)\n",
        "(x_v_flipped,y_v_flipped) = AUG.vertical_flip(x_train,y_train)\n",
        "(x_rotated,y_rotated) = AUG.random_rotation(x_train,y_train)\n",
        "\n"
      ],
      "execution_count": 0,
      "outputs": []
    },
    {
      "cell_type": "code",
      "metadata": {
        "id": "5Z4KNrJLuMNf",
        "colab_type": "code",
        "colab": {
          "base_uri": "https://localhost:8080/",
          "height": 301
        },
        "outputId": "239e01e7-0b3e-44e5-c2d1-99dc1ecaa2ff"
      },
      "source": [
        "#concat data \n",
        "\n",
        "x_noise = np.asarray(x_noise)\n",
        "x_h_flipped = np.asarray(x_h_flipped)\n",
        "x_v_flipped = np.asarray(x_v_flipped)\n",
        "x_rotated = np.asarray(x_rotated)\n",
        "\n",
        "x_train = np.concatenate((x_train,x_noise,x_h_flipped,x_v_flipped,x_rotated),axis=0)\n",
        "\n",
        "#----------------------------------------------------------------------------------------------------------------------------------------------------------------\n",
        "\n",
        "y_noise = np.asarray(y_noise)\n",
        "y_h_flipped = np.asarray(y_h_flipped)\n",
        "y_v_flipped = np.asarray(y_v_flipped)\n",
        "y_rotated = np.asarray(y_rotated)\n",
        "\n",
        "y_train = np.concatenate((y_train,y_noise,y_h_flipped,y_v_flipped,y_rotated),axis=0)\n",
        "\n",
        "random_example(x_train,y_train,3,2)"
      ],
      "execution_count": 24,
      "outputs": [
        {
          "output_type": "display_data",
          "data": {
            "image/png": "[encoded data removed]",
            "text/plain": [
              "<Figure size 432x288 with 6 Axes>"
            ]
          },
          "metadata": {
            "tags": [],
            "needs_background": "light"
          }
        }
      ]
    },
    {
      "cell_type": "code",
      "metadata": {
        "id": "qHYF32R9wSZa",
        "colab_type": "code",
        "colab": {}
      },
      "source": [
        "#convert np arrays to tensors\n",
        "import torch\n",
        "\n",
        "x_train = torch.from_numpy(x_train)\n",
        "x_test = torch.from_numpy(x_test)\n",
        "\n",
        "y_train = torch.from_numpy(y_train)\n",
        "y_test = torch.from_numpy(y_test)\n",
        "\n",
        "\n",
        "train = torch.utils.data.TensorDataset(x_train,y_train) \n",
        "train_loader = torch.utils.data.DataLoader(train,batch_size=4,shuffle=True) \n",
        "\n",
        "test = torch.utils.data.TensorDataset(x_test,y_test)\n",
        "test_loader = torch.utils.data.DataLoader(test,batch_size=4,shuffle=False)\n"
      ],
      "execution_count": 0,
      "outputs": []
    },
    {
      "cell_type": "code",
      "metadata": {
        "id": "aKI0a8r9wT4A",
        "colab_type": "code",
        "colab": {}
      },
      "source": [
        "\n",
        " #convert np arrays to tensors\n",
        "import torch\n",
        "\n",
        "x_train = torch.from_numpy(x_train)\n",
        "x_test = torch.from_numpy(x_test)\n",
        "\n",
        "y_train = torch.from_numpy(y_train)\n",
        "y_test = torch.from_numpy(y_test)\n",
        "\n",
        "\n",
        "train = torch.utils.data.TensorDataset(x_train,y_train) \n",
        "train_loader = torch.utils.data.DataLoader(train,batch_size=4,shuffle=True) \n",
        "\n",
        "test = torch.utils.data.TensorDataset(x_test,y_test)\n",
        "test_loader = torch.utils.data.DataLoader(test,batch_size=4,shuffle=False)       \n",
        "       "
      ],
      "execution_count": 0,
      "outputs": []
    },
    {
      "cell_type": "code",
      "metadata": {
        "id": "9WlNei9bwpaA",
        "colab_type": "code",
        "colab": {}
      },
      "source": [
        "import torch.nn as nn\n",
        "import torch.nn.functional as F\n",
        "import torch.utils.data\n",
        "\n",
        "#Resnet Architecture\n",
        "\n",
        "def conv3x3(in_planes,out_planes,stride=1):\n",
        "    return nn.Conv2d(in_planes,out_planes,kernel_size=3,stride=stride,padding=1,bias=False)\n",
        "\n",
        "def conv1x1(in_planes,out_planes,stride=1):\n",
        "    return nn.Conv2d(in_planes,out_planes,kernel_size=1,stride=stride,bias=False)\n",
        "\n",
        "class BasicBlock(nn.Module): \n",
        "\n",
        "    expansion = 1\n",
        "\n",
        "    def __init__(self,inplanes,planes,stride=1,downsample=None): #planes for output\n",
        "        super(BasicBlock,self).__init__()\n",
        "        self.conv1 = conv3x3(inplanes,planes,stride)\n",
        "        self.bn1 = nn.BatchNorm2d(planes)\n",
        "        self.relu = nn.ReLU(inplace=True)\n",
        "        self.drop = nn.Dropout(0.5)\n",
        "        self.conv2 = conv3x3(planes,planes)\n",
        "        self.bn2 = nn.BatchNorm2d(planes)\n",
        "        self.downsample = downsample\n",
        "        self.stride = stride\n",
        "\n",
        "    def forward(self,x):\n",
        "        identity = x\n",
        "        out = self.conv1(x)\n",
        "        out = self.bn1(out)\n",
        "        out= self.relu(out)\n",
        "        out = self.drop(out)\n",
        "        out = self.conv2(out)\n",
        "        out = self.bn2(out)\n",
        "        out = self.drop(out)\n",
        "\n",
        "        if(self.downsample is not None):\n",
        "            identity = self.downsample(x)\n",
        "        out += identity \n",
        "        out = self.relu(out)\n",
        "\n",
        "        return out"
      ],
      "execution_count": 0,
      "outputs": []
    },
    {
      "cell_type": "code",
      "metadata": {
        "id": "tEmUgwV_36KL",
        "colab_type": "code",
        "colab": {}
      },
      "source": [
        "num_classes = 2\n",
        "class ResNet(nn.Module):\n",
        "\n",
        "    def __init__(self,block,layers,num_classes=num_classes):\n",
        "        super(ResNet,self).__init__()\n",
        "        self.inplanes = 64 # according to research paper\n",
        "        self.conv1 = nn.Conv2d(1,64,kernel_size=7,stride=2,padding=3,bias=False)\n",
        "        self.bn1 = nn.BatchNorm2d(64)\n",
        "        self.relu = nn.ReLU(inplace=True)\n",
        "        self.maxpool = nn.MaxPool2d(kernel_size = 3,stride=2,padding=1)\n",
        "        self.layer1 = self._make_layer(block,64,layers[0],stride=1)\n",
        "        self.layer2 = self._make_layer(block,128,layers[1],stride=2)\n",
        "        self.layer3 = self._make_layer(block,256,layers[2],stride=2)\n",
        "        self.layer4 = self._make_layer(block,512,layers[3],stride=2)\n",
        "        \n",
        "        self.avgpooling = nn.AdaptiveAvgPool2d((1,1))\n",
        "        self.fc = nn.Linear(512*block.expansion,num_classes)\n",
        "\n",
        "        for m in self.modules(): \n",
        "            if isinstance(m,nn.Conv2d):\n",
        "                nn.init.kaiming_normal_(m.weight,mode=\"fan_out\",nonlinearity=\"relu\") \n",
        "            elif isinstance(m,nn.BatchNorm2d):\n",
        "                nn.init.constant_(m.weight,1)\n",
        "                nn.init.constant_(m.bias, 0)\n",
        "\n",
        "\n",
        "    def _make_layer(self,block,planes,num_layers,stride = 1):\n",
        "        downsample = None\n",
        "        if stride!=1 or self.inplanes != planes*block.expansion:\n",
        "            downsample = nn.Sequential(\n",
        "                conv1x1(self.inplanes,planes*block.expansion,stride),\n",
        "                nn.BatchNorm2d(planes*block.expansion)\n",
        "            )\n",
        "        layers = []\n",
        "        layers.append(block(self.inplanes,planes,stride,downsample))\n",
        "        self.inplanes = planes*block.expansion\n",
        "        for _ in range(1,len(layers)):\n",
        "            layers.append(block(self.inplanes,planes))\n",
        "\n",
        "        return nn.Sequential(*layers)\n",
        "\n",
        "    def forward(self,x):\n",
        "        x= self.conv1(x)\n",
        "        x = self.bn1(x)\n",
        "        x = self.relu(x)\n",
        "        x=self.maxpool(x)\n",
        "\n",
        "        x = self.layer1(x)\n",
        "        x = self.layer2(x)\n",
        "        x = self.layer3(x)\n",
        "        x = self.layer4(x)\n",
        "\n",
        "        x = self.avgpooling(x)\n",
        "\n",
        "        x = x.view(x.size(0),-1) #flatten\n",
        "        x = self.fc(x)\n",
        "\n",
        "        return x\n"
      ],
      "execution_count": 0,
      "outputs": []
    },
    {
      "cell_type": "code",
      "metadata": {
        "id": "fatULxLg4D-i",
        "colab_type": "code",
        "colab": {
          "base_uri": "https://localhost:8080/",
          "height": 1000
        },
        "outputId": "580a11c6-e22d-43ed-ec53-d8fda5adab91"
      },
      "source": [
        "#resnet 50\n",
        "#model = ResNet(BottleNeck,[3,4,6,3])\n",
        "\n",
        "#resnet 18\n",
        "model = ResNet(BasicBlock,[2,2,2,2],num_classes=2)\n",
        "model.cuda()\n",
        "device = torch.device(\"cuda\")\n",
        "\n",
        "criterion = nn.CrossEntropyLoss()\n",
        "optimizer = torch.optim.Adam(model.parameters(),0.0001) #0.0001 is learning rate\n",
        "\n",
        "total_step = len(train_loader)\n",
        "loss_list = []\n",
        "train_acc = []\n",
        "test_acc = []\n",
        "batch_size = 4\n",
        "for epoch in range(300):\n",
        "    for i,data in enumerate(train_loader,0): #enumarete train_loader ve 0\n",
        "        # i --->index , data ----> image\n",
        "        inputs,labels= data\n",
        "        try:\n",
        "            inputs = inputs.view(batch_size,1,224,224)\n",
        "            inputs = inputs.float()\n",
        "        except:\n",
        "            continue\n",
        "        \n",
        "        \n",
        "        if torch.cuda.is_available():\n",
        "            inputs,labels = inputs.to(device),labels.to(device)\n",
        "\n",
        "        #zero gradient\n",
        "        optimizer.zero_grad()\n",
        "\n",
        "        #forward\n",
        "        outputs = model(inputs)\n",
        "        #loss\n",
        "        loss = criterion(outputs,labels) #compare outputs and labels\n",
        "        #backward\n",
        "        loss.backward()\n",
        "        #update weigths\n",
        "        optimizer.step()\n",
        "        if(i==(len(x_train)/batch_size)-1 and epoch%10 == 0):\n",
        "            print(\"Epoch : {}\".format(epoch))\n",
        "    \n",
        "    correct = 0\n",
        "    total = 0\n",
        "    with torch.no_grad():\n",
        "        for data in train_loader:\n",
        "            images,labels = data\n",
        "            try:\n",
        "                images = images.view(batch_size,1,224,224)\n",
        "                images = images.float()\n",
        "            except:\n",
        "                continue #throws error because of dataset but it's not a problem to continue\n",
        "            \n",
        "            if torch.cuda.is_available():\n",
        "                images, labels = images.to(device), labels.to(device)\n",
        "\n",
        "            outputs = model(images)\n",
        "            _,predicted = torch.max(outputs.data,1) #returns max value index\n",
        "            total += labels.size(0)\n",
        "            correct += (predicted == labels).sum().item()\n",
        "\n",
        "        train_acc.append((100*correct/total))\n",
        "        loss_list.append(loss.item())\n",
        "        if(epoch % 10 == 0):\n",
        "            print(\"Accuracy train: \",(100*correct/total))"
      ],
      "execution_count": 37,
      "outputs": [
        {
          "output_type": "stream",
          "text": [
            "Epoch : 0\n",
            "Accuracy train:  55.57142857142857\n",
            "Epoch : 10\n",
            "Accuracy train:  65.28571428571429\n",
            "Epoch : 20\n",
            "Accuracy train:  71.85714285714286\n",
            "Epoch : 30\n",
            "Accuracy train:  72.28571428571429\n",
            "Epoch : 40\n",
            "Accuracy train:  76.42857142857143\n",
            "Epoch : 50\n",
            "Accuracy train:  76.42857142857143\n",
            "Epoch : 60\n",
            "Accuracy train:  77.42857142857143\n",
            "Epoch : 70\n",
            "Accuracy train:  80.14285714285714\n",
            "Epoch : 80\n",
            "Accuracy train:  80.28571428571429\n",
            "Epoch : 90\n",
            "Accuracy train:  81.57142857142857\n",
            "Epoch : 100\n",
            "Accuracy train:  83.14285714285714\n",
            "Epoch : 110\n",
            "Accuracy train:  79.57142857142857\n",
            "Epoch : 120\n",
            "Accuracy train:  84.14285714285714\n",
            "Epoch : 130\n",
            "Accuracy train:  82.28571428571429\n",
            "Epoch : 140\n",
            "Accuracy train:  84.85714285714286\n",
            "Epoch : 150\n",
            "Accuracy train:  82.71428571428571\n",
            "Epoch : 160\n",
            "Accuracy train:  82.28571428571429\n",
            "Epoch : 170\n",
            "Accuracy train:  85.85714285714286\n",
            "Epoch : 180\n",
            "Accuracy train:  83.42857142857143\n",
            "Epoch : 190\n",
            "Accuracy train:  85.42857142857143\n",
            "Epoch : 200\n",
            "Accuracy train:  83.85714285714286\n",
            "Epoch : 210\n",
            "Accuracy train:  82.28571428571429\n",
            "Epoch : 220\n",
            "Accuracy train:  85.85714285714286\n",
            "Epoch : 230\n",
            "Accuracy train:  84.14285714285714\n",
            "Epoch : 240\n",
            "Accuracy train:  86.28571428571429\n",
            "Epoch : 250\n",
            "Accuracy train:  86.42857142857143\n",
            "Epoch : 260\n",
            "Accuracy train:  84.28571428571429\n",
            "Epoch : 270\n",
            "Accuracy train:  86.57142857142857\n",
            "Epoch : 280\n",
            "Accuracy train:  86.0\n",
            "Epoch : 290\n",
            "Accuracy train:  84.42857142857143\n"
          ],
          "name": "stdout"
        }
      ]
    },
    {
      "cell_type": "code",
      "metadata": {
        "id": "nyfI2t3u7ARx",
        "colab_type": "code",
        "colab": {
          "base_uri": "https://localhost:8080/",
          "height": 301
        },
        "outputId": "4dc34e5c-1b6d-4007-9823-13863d669980"
      },
      "source": [
        "plt.subplot(2, 1, 1)\n",
        "plt.plot(loss_list)\n",
        "plt.title(\"Loss\")\n",
        "\n",
        "plt.subplot(2, 1, 2)\n",
        "plt.plot(np.array(train_acc)/100,label=\"Train Accuracy\",color='green')\n",
        "plt.title(\"Train Accuracy\")\n",
        "\n",
        "plt.tight_layout(pad=0.9,h_pad=2.0)\n",
        "\n",
        "plt.show()"
      ],
      "execution_count": 38,
      "outputs": [
        {
          "output_type": "display_data",
          "data": {
            "image/png": "[encoded data removed]",
            "text/plain": [
              "<Figure size 432x288 with 2 Axes>"
            ]
          },
          "metadata": {
            "tags": [],
            "needs_background": "light"
          }
        }
      ]
    },
    {
      "cell_type": "code",
      "metadata": {
        "id": "6M3qI0Yq7HfL",
        "colab_type": "code",
        "colab": {
          "base_uri": "https://localhost:8080/",
          "height": 34
        },
        "outputId": "f5be5780-13e8-4c0b-d488-f7f96c40754b"
      },
      "source": [
        "correct = 0\n",
        "total = 0\n",
        "with torch.no_grad():\n",
        "    for data in test_loader:\n",
        "        images,labels = data\n",
        "        try:\n",
        "            images = images.view(batch_size,1,224,224)\n",
        "            images = images.float()\n",
        "        except:\n",
        "            continue\n",
        "\n",
        "        if torch.cuda.is_available():\n",
        "            images, labels = images.to(device), labels.to(device)\n",
        "\n",
        "        outputs = model(images)\n",
        "        _,predicted = torch.max(outputs.data,1) #returns max value index\n",
        "        total += labels.size(0)\n",
        "        correct += (predicted == labels).sum().item()\n",
        "        test_acc.append((100*correct/total))\n",
        "\n",
        "print(\"Test Accuracy: \",sum(test_acc)/len(test_acc))\n"
      ],
      "execution_count": 39,
      "outputs": [
        {
          "output_type": "stream",
          "text": [
            "Test Accuracy:  95.75\n"
          ],
          "name": "stdout"
        }
      ]
    }
  ]
}